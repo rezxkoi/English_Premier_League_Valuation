{
 "cells": [
  {
   "cell_type": "markdown",
   "id": "d0a6d76d",
   "metadata": {},
   "source": [
    "# Project Proposal \n",
    "\n",
    "\n",
    "\n",
    "\n"
   ]
  },
  {
   "cell_type": "markdown",
   "id": "fc6e4d9c",
   "metadata": {},
   "source": [
    "## Question/need:\n",
    "What is the framing question of your analysis, or the purpose of the model/system you plan to build?\n",
    "Who benefits from exploring this question or building this model/system?\n",
    "\n",
    "#### The predicted value of the English Premier League will be defined in the year of 2021-2022 in the end of the season.\n",
    "#### The beneficiary of this outcome will be the Barkleys & English premier league and all the teams and players present in the league."
   ]
  },
  {
   "cell_type": "markdown",
   "id": "b4bc7c1f",
   "metadata": {},
   "source": [
    "### Data Description:\n",
    "What dataset(s) do you plan to use, and how will you obtain the data?\n",
    "What is an individual sample/unit of analysis in this project? What characteristics/features do you expect to work with?\n",
    "If modeling, what will you predict as your target?\n",
    "\n",
    "#### The data will be collected with web scraping from the websites of whoscored.com and transfermarket.us.\n",
    "#### The data will be collected from every player in currently enrolled in the EPL and eventually the value of each club will predicted. the summation of the valuation of the clubs should represent the value of the league in the year 2021-2022.\n",
    "#### The feaures that would be presenting each player would be:\n",
    "\n",
    "#### Value in 2019-2020: Matches played , Minutes Played, Age ,Goals , Assists , Shots per Game , Pass Success percentage , Aerials Won , Man of the Match , Rating. \n",
    "#### Value  2020 - 2021: Matches played , Minutes Played, Age ,Goals , Assists , Shots per Game , Pass Success percentage , Aerials Won , Man of the Match , Rating.\n",
    "\n",
    "#### The target will model the predicted value of each player in the year of 2021-2022 and eventually predicting the value of the league.\n"
   ]
  },
  {
   "cell_type": "markdown",
   "id": "19550366",
   "metadata": {},
   "source": [
    "## Tools:\n",
    "How do you intend to meet the tools requirement of the project?\n",
    "Are you planning in advance to need or use additional tools beyond those required\n",
    "\n",
    "#### from bs4 import BeautifulSoup,requests,IPython.core.display import display, HTML,pandas, selenium, linear regression,numpy"
   ]
  },
  {
   "cell_type": "markdown",
   "id": "8e966477",
   "metadata": {},
   "source": [
    "## MVP Goal:\n",
    "What would a minimum viable product (MVP) look like for this project?\n",
    "\n",
    "#### THE MVP SHOULD REPRESENT THE VALUE OF THE ALL THE PLAYERS ALONG SIDE WITH EACH ONES ATTRIBUTES WHERE THESE WILL EVENTUALLY USING REGRESSION HELP US PREDICT THE VALUE OF EACH PLAYER IN THE CURRENT SESASON."
   ]
  }
 ],
 "metadata": {
  "kernelspec": {
   "display_name": "Python [conda env:metis] *",
   "language": "python",
   "name": "conda-env-metis-py"
  },
  "language_info": {
   "codemirror_mode": {
    "name": "ipython",
    "version": 3
   },
   "file_extension": ".py",
   "mimetype": "text/x-python",
   "name": "python",
   "nbconvert_exporter": "python",
   "pygments_lexer": "ipython3",
   "version": "3.8.10"
  }
 },
 "nbformat": 4,
 "nbformat_minor": 5
}
